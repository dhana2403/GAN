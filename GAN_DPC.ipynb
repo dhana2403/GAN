{
 "cells": [
  {
   "cell_type": "code",
   "execution_count": null,
   "metadata": {},
   "outputs": [],
   "source": [
    "# pip install sdv  # make sure you have sdv installed\n",
    "\n",
    "from sdv.single_table import DPCTGAN\n",
    "from sdv.metadata import SingleTableMetadata\n",
    "import pandas as pd\n",
    "\n",
    "# Load your real data\n",
    "brain_cortex_data = pd.read_pickle('/Users/dhanalakshmijothi/Desktop/python/GTEx_Net/src_feedai/data/processed/batch1/Brain-Cortex.pkl')\n",
    "\n",
    "print(brain_cortex_data.head())\n",
    "\n",
    "# Create metadata object and detect schema from real data\n",
    "metadata = SingleTableMetadata()\n",
    "metadata.detect_from_dataframe(data=brain_cortex_data)\n",
    "\n",
    "# Initialize DP-enabled CTGAN synthesizer\n",
    "# epsilon controls privacy budget (smaller epsilon = stronger privacy, but less accuracy)\n",
    "dp_ctgan = DPCTGAN(metadata, epsilon=1.0)  # you can tune epsilon (try between 0.1 to 10)\n",
    "\n",
    "# Fit the DP model on your real data\n",
    "dp_ctgan.fit(brain_cortex_data)\n",
    "\n",
    "# Generate synthetic data with differential privacy guarantees\n",
    "synthetic_data = dp_ctgan.sample(100)  # generate 100 synthetic samples\n",
    "\n",
    "print(synthetic_data.head())\n",
    "\n",
    "# Save the synthetic data\n",
    "synthetic_data.to_pickle('/Users/dhanalakshmijothi/Desktop/python/GTEx_Net/src_feedai/data/processed/synthetic_brain_cortex_privacy_aware.pkl')\n",
    "\n",
    "\n",
    "from sdmetrics.single_table import LogisticDetection\n",
    "\n",
    "ld = LogisticDetection()\n",
    "ld_score = ld.compute(real_data=brain_cortex_data, synthetic_data=synthetic_data)\n",
    "print(f\"Logistic Detection privacy score: {ld_score}\")\n",
    "\n"
   ]
  }
 ],
 "metadata": {
  "language_info": {
   "name": "python"
  }
 },
 "nbformat": 4,
 "nbformat_minor": 2
}
