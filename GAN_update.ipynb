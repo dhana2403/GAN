{
 "cells": [
  {
   "cell_type": "code",
   "execution_count": 2,
   "metadata": {},
   "outputs": [
    {
     "name": "stdout",
     "output_type": "stream",
     "text": [
      "                                 0    1         2         3    4    5  \\\n",
      "samp_id                                                                 \n",
      "GTEX-1117F-3226-SM-5N9CT  3.534000  0.0  0.335334  4.366228  0.0  0.0   \n",
      "GTEX-111FC-3126-SM-5GZZ2  2.810749  0.0  0.999391  5.393497  0.0  0.0   \n",
      "GTEX-1128S-2726-SM-5H12C  2.960615  0.0  0.790151  5.081719  0.0  0.0   \n",
      "GTEX-117XS-3026-SM-5N9CA  3.482689  0.0  0.896887  5.330355  0.0  0.0   \n",
      "GTEX-1192X-3126-SM-5N9BY  3.024637  0.0  0.632129  4.479061  0.0  0.0   \n",
      "\n",
      "                                 6         7         8         9  \n",
      "samp_id                                                           \n",
      "GTEX-1117F-3226-SM-5N9CT  4.516472  0.599237  3.810703  1.318793  \n",
      "GTEX-111FC-3126-SM-5GZZ2  4.764891  2.836771  2.414094  1.006214  \n",
      "GTEX-1128S-2726-SM-5H12C  4.795382  2.104690  2.946904  0.844986  \n",
      "GTEX-117XS-3026-SM-5N9CA  5.582492  2.717860  3.266915  1.410341  \n",
      "GTEX-1192X-3126-SM-5N9BY  5.294813  2.023965  3.065128  0.848979  \n"
     ]
    },
    {
     "name": "stderr",
     "output_type": "stream",
     "text": [
      "/Users/dhanalakshmijothi/.virtualenvs/r-reticulate/lib/python3.12/site-packages/sdv/single_table/base.py:163: FutureWarning: The 'SingleTableMetadata' is deprecated. Please use the new 'Metadata' class for synthesizers.\n",
      "  warnings.warn(DEPRECATION_MSG, FutureWarning)\n",
      "/Users/dhanalakshmijothi/.virtualenvs/r-reticulate/lib/python3.12/site-packages/sdv/single_table/base.py:129: UserWarning: We strongly recommend saving the metadata using 'save_to_json' for replicability in future SDV versions.\n",
      "  warnings.warn(\n"
     ]
    },
    {
     "name": "stdout",
     "output_type": "stream",
     "text": [
      "          0         1         2         3         4         5         6  \\\n",
      "0  1.823813  0.010790  0.133921  3.706612  0.000000  0.000662  3.611667   \n",
      "1  1.483308  0.005272  0.655221  2.656725  0.006026  0.003473  3.240174   \n",
      "2  3.246961  0.000000  1.105781  4.284289  0.247387  0.000000  5.173842   \n",
      "3  0.945643  0.013959  0.384727  1.892504  0.010040  0.000000  6.843511   \n",
      "4  2.413481  0.000000  0.494765  2.749076  0.008075  0.000000  6.114996   \n",
      "\n",
      "          7         8         9  \n",
      "0  2.323756  2.440188  1.337890  \n",
      "1  3.286518  3.545797  0.238879  \n",
      "2  2.674441  3.762228  2.388504  \n",
      "3  1.608171  3.810703  0.735256  \n",
      "4  1.577662  2.603833  1.459123  \n",
      "Logistic Detection privacy score: 0.13745063087623643\n"
     ]
    },
    {
     "name": "stderr",
     "output_type": "stream",
     "text": [
      "/Users/dhanalakshmijothi/.virtualenvs/r-reticulate/lib/python3.12/site-packages/sklearn/linear_model/_logistic.py:473: ConvergenceWarning: lbfgs failed to converge after 100 iteration(s) (status=1):\n",
      "STOP: TOTAL NO. OF ITERATIONS REACHED LIMIT\n",
      "\n",
      "Increase the number of iterations to improve the convergence (max_iter=100).\n",
      "You might also want to scale the data as shown in:\n",
      "    https://scikit-learn.org/stable/modules/preprocessing.html\n",
      "Please also refer to the documentation for alternative solver options:\n",
      "    https://scikit-learn.org/stable/modules/linear_model.html#logistic-regression\n",
      "  n_iter_i = _check_optimize_result(\n"
     ]
    }
   ],
   "source": [
    "from sdv.single_table import CTGANSynthesizer\n",
    "from sdv.metadata import SingleTableMetadata\n",
    "import pandas as pd\n",
    "from sdmetrics.single_table import LogisticDetection\n",
    "\n",
    "\n",
    "# Load your real data\n",
    "brain_cortex_data = pd.read_pickle('/Users/dhanalakshmijothi/Desktop/python/GTEx_Net/src_feedai/data/processed/batch1/Brain-Cortex.pkl')\n",
    "\n",
    "print(brain_cortex_data.head())\n",
    "\n",
    "# Create metadata object and detect schema from real data\n",
    "metadata = SingleTableMetadata()\n",
    "metadata.detect_from_dataframe(data=brain_cortex_data)\n",
    "\n",
    "# Initialize CTGAN synthesizer (not DP-enabled)\n",
    "ctgan = CTGANSynthesizer(metadata)\n",
    "\n",
    "# Fit the model on your real data\n",
    "ctgan.fit(brain_cortex_data)\n",
    "\n",
    "# Generate synthetic data\n",
    "synthetic_data = ctgan.sample(100)  # generate 100 synthetic samples\n",
    "\n",
    "print(synthetic_data.head())\n",
    "\n",
    "# Save the synthetic data\n",
    "synthetic_data.to_pickle('/Users/dhanalakshmijothi/Desktop/python/GTEx_Net/src_feedai/data/processed/synthetic_brain_cortex.pkl')\n",
    "\n",
    "# Evaluate privacy leakage (how distinguishable the synthetic data is from real data)\n",
    "ld = LogisticDetection()\n",
    "ld_score = ld.compute(real_data=brain_cortex_data, synthetic_data=synthetic_data)\n",
    "print(f\"Logistic Detection privacy score: {ld_score}\")\n"
   ]
  }
 ],
 "metadata": {
  "kernelspec": {
   "display_name": "r-reticulate",
   "language": "python",
   "name": "python3"
  },
  "language_info": {
   "codemirror_mode": {
    "name": "ipython",
    "version": 3
   },
   "file_extension": ".py",
   "mimetype": "text/x-python",
   "name": "python",
   "nbconvert_exporter": "python",
   "pygments_lexer": "ipython3",
   "version": "3.12.5"
  }
 },
 "nbformat": 4,
 "nbformat_minor": 2
}
