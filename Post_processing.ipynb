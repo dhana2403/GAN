{
 "cells": [
  {
   "cell_type": "code",
   "execution_count": 5,
   "metadata": {},
   "outputs": [
    {
     "name": "stdout",
     "output_type": "stream",
     "text": [
      "Logistic Detection privacy score: 1.0\n"
     ]
    }
   ],
   "source": [
    "import numpy as np\n",
    "import pandas as pd\n",
    "from sdmetrics.single_table import LogisticDetection\n",
    "\n",
    "synthetic_data = pd.read_pickle(\"/Users/dhanalakshmijothi/Desktop/python/GTEx_Net/src_feedai/data/processed/synthetic_brain_cortex.pkl\")\n",
    "\n",
    "# Clip negative values and extreme highs if needed\n",
    "synthetic_data_clipped = synthetic_data.clip(lower=0, upper=15)\n",
    "\n",
    "real_data = pd.read_pickle(\"/Users/dhanalakshmijothi/Desktop/python/GTEx_Net/src_feedai/data/processed/batch1/Brain-Cortex.pkl\")\n",
    "\n",
    "for col in synthetic_data.columns:\n",
    "    if col in real_data.columns:\n",
    "        real_mean = real_data[col].mean()\n",
    "        real_std = real_data[col].std()\n",
    "        synth_mean = synthetic_data[col].mean()\n",
    "        synth_std = synthetic_data[col].std()\n",
    "        \n",
    "        synthetic_data[col] = (synthetic_data[col] - synth_mean) / synth_std * real_std + real_mean\n",
    "\n",
    "        synthetic_data.columns = real_data.columns  # if same shape\n",
    "\n",
    "        synthetic_data.index = [f\"SYNTH-{i:04d}\" for i in range(len(synthetic_data))]\n",
    "\n",
    "\n",
    "ld = LogisticDetection()\n",
    "ld_score = ld.compute(real_data=real_data, synthetic_data=synthetic_data)\n",
    "print(f\"Logistic Detection privacy score: {ld_score}\")"
   ]
  }
 ],
 "metadata": {
  "kernelspec": {
   "display_name": "r-reticulate",
   "language": "python",
   "name": "python3"
  },
  "language_info": {
   "codemirror_mode": {
    "name": "ipython",
    "version": 3
   },
   "file_extension": ".py",
   "mimetype": "text/x-python",
   "name": "python",
   "nbconvert_exporter": "python",
   "pygments_lexer": "ipython3",
   "version": "3.12.5"
  }
 },
 "nbformat": 4,
 "nbformat_minor": 2
}
