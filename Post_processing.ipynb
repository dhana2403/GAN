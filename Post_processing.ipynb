{
 "cells": [
  {
   "cell_type": "code",
   "execution_count": null,
   "metadata": {},
   "outputs": [],
   "source": [
    "import numpy as np\n",
    "import pandas as pd\n",
    "\n",
    "synthetic_data = pd.read_pickle(\"/Users/dhanalakshmijothi/Desktop/python/GTEx_Net/src_feedai/data/processed/synthetic_brain_cortex.pkl\")\n",
    "\n",
    "# Clip negative values and extreme highs if needed\n",
    "synthetic_data_clipped = synthetic_data.clip(lower=0, upper=15)\n",
    "\n",
    "real_data = pd.read_pickle(\"path_to_real.pkl\")\n",
    "\n",
    "for col in synthetic_data.columns:\n",
    "    if col in real_data.columns:\n",
    "        real_mean = real_data[col].mean()\n",
    "        real_std = real_data[col].std()\n",
    "        synth_mean = synthetic_data[col].mean()\n",
    "        synth_std = synthetic_data[col].std()\n",
    "        \n",
    "        synthetic_data[col] = (synthetic_data[col] - synth_mean) / synth_std * real_std + real_mean\n",
    "\n",
    "        synthetic_data.columns = real_data.columns  # if same shape\n",
    "\n",
    "        synthetic_data.index = [f\"SYNTH-{i:04d}\" for i in range(len(synthetic_data))]\n",
    "\n"
   ]
  }
 ],
 "metadata": {
  "language_info": {
   "name": "python"
  }
 },
 "nbformat": 4,
 "nbformat_minor": 2
}
